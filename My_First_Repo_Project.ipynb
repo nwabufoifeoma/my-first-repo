{
  "nbformat": 4,
  "nbformat_minor": 0,
  "metadata": {
    "colab": {
      "provenance": []
    },
    "kernelspec": {
      "name": "python3",
      "display_name": "Python 3"
    },
    "language_info": {
      "name": "python"
    }
  },
  "cells": [
    {
      "cell_type": "code",
      "execution_count": 1,
      "metadata": {
        "colab": {
          "base_uri": "https://localhost:8080/"
        },
        "id": "H79IRfVR_twt",
        "outputId": "5e28e9a3-a0b6-49fa-8962-e2b49eaa17c7"
      },
      "outputs": [
        {
          "output_type": "stream",
          "name": "stdout",
          "text": [
            "This is my First Repo Project\n"
          ]
        }
      ],
      "source": [
        "print(\"This is my First Repo Project\")"
      ]
    },
    {
      "cell_type": "code",
      "source": [],
      "metadata": {
        "id": "S918aJfm_1e4"
      },
      "execution_count": null,
      "outputs": []
    }
  ]
}